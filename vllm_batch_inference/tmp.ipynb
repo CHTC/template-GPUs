{
 "cells": [
  {
   "cell_type": "code",
   "execution_count": null,
   "metadata": {},
   "outputs": [],
   "source": [
    "import json\n",
    "import vllm\n",
    "from pathlib import Path\n"
   ]
  },
  {
   "cell_type": "code",
   "execution_count": null,
   "metadata": {},
   "outputs": [],
   "source": [
    "def save_data(data: dict, file: Path) -> None:\n",
    "    \"\"\"Save data to a jsonl file.\"\"\"\n",
    "    with open(file, 'a') as f:\n",
    "        f.write(json.dumps(data) + '\\n')\n"
   ]
  },
  {
   "cell_type": "code",
   "execution_count": null,
   "metadata": {},
   "outputs": [],
   "source": [
    "llm = vllm.LLM(model=\"microsoft/Phi-3.5-mini-instruct\")"
   ]
  },
  {
   "cell_type": "code",
   "execution_count": 21,
   "metadata": {},
   "outputs": [],
   "source": [
    "prompts = [\n",
    "    \"What is the capital of France?\",\n",
    "    \"What is the capital of Germany?\",\n",
    "    \"What is the capital of Italy?\",\n",
    "    \"What is the capital of Spain?\",\n",
    "    \"What is the capital of Portugal?\",\n",
    "    \"What is the capital of Greece?\",\n",
    "    \"What is the capital of Belgium?\",\n",
    "    \"What is the capital of Poland?\",\n",
    "    \"What is the capital of Sweden?\",\n",
    "    \"What is the capital of Norway?\",\n",
    "    \"What is the capital of Denmark?\",\n",
    "    \"What is the capital of Finland?\",\n",
    "    \"What is the capital of Russia?\",\n",
    "    \"What is the capital of China?\",\n",
    "    \"What is the capital of Japan?\",\n",
    "    \"What is the capital of India?\"\n",
    "]"
   ]
  }
 ],
 "metadata": {
  "kernelspec": {
   "display_name": ".venv",
   "language": "python",
   "name": "python3"
  },
  "language_info": {
   "codemirror_mode": {
    "name": "ipython",
    "version": 3
   },
   "file_extension": ".py",
   "mimetype": "text/x-python",
   "name": "python",
   "nbconvert_exporter": "python",
   "pygments_lexer": "ipython3",
   "version": "3.11.6"
  }
 },
 "nbformat": 4,
 "nbformat_minor": 2
}
